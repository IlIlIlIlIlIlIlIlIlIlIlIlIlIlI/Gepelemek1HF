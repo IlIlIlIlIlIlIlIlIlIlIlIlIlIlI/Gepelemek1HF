{
 "cells": [
  {
   "metadata": {},
   "cell_type": "markdown",
   "source": "Gépelemek 1. Házi feladat",
   "id": "d16d6696be6a17da"
  },
  {
   "metadata": {},
   "cell_type": "markdown",
   "source": "2. Vakkarima minimális vastagság",
   "id": "c0e95d453e7320a6"
  },
  {
   "metadata": {},
   "cell_type": "code",
   "outputs": [],
   "execution_count": null,
   "source": "",
   "id": "5786e0761a9aa6af"
  },
  {
   "metadata": {},
   "cell_type": "markdown",
   "source": "3. Lapos tömítés, minimális tömítési erő",
   "id": "2de7524c838d8c44"
  },
  {
   "cell_type": "code",
   "execution_count": null,
   "id": "initial_id",
   "metadata": {
    "collapsed": true
   },
   "outputs": [],
   "source": [
    ""
   ]
  },
  {
   "metadata": {},
   "cell_type": "markdown",
   "source": "4. Csavarra jutó terhelés",
   "id": "65b4cb62486f9015"
  },
  {
   "metadata": {},
   "cell_type": "code",
   "outputs": [],
   "execution_count": null,
   "source": "",
   "id": "b07fd89c9913d51a"
  },
  {
   "metadata": {},
   "cell_type": "markdown",
   "source": "5. Csavar előfeszítési és szükséges meghúzási nyomaték",
   "id": "73e99952c44992e9"
  },
  {
   "metadata": {},
   "cell_type": "code",
   "outputs": [],
   "execution_count": null,
   "source": "",
   "id": "e19d774fb2b0fb7d"
  },
  {
   "metadata": {},
   "cell_type": "markdown",
   "source": "6. Csavar anyaga, benne ébredő egyenfeszültség",
   "id": "cfa9fa9ad5b64f4e"
  },
  {
   "metadata": {},
   "cell_type": "code",
   "outputs": [],
   "execution_count": null,
   "source": "",
   "id": "a2d195c095fd829d"
  }
 ],
 "metadata": {
  "kernelspec": {
   "display_name": "Python 3",
   "language": "python",
   "name": "python3"
  },
  "language_info": {
   "codemirror_mode": {
    "name": "ipython",
    "version": 2
   },
   "file_extension": ".py",
   "mimetype": "text/x-python",
   "name": "python",
   "nbconvert_exporter": "python",
   "pygments_lexer": "ipython2",
   "version": "2.7.6"
  }
 },
 "nbformat": 4,
 "nbformat_minor": 5
}
